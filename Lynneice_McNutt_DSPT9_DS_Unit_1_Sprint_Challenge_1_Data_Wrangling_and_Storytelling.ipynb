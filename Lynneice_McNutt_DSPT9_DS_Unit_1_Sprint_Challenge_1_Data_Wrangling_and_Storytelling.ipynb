{
  "nbformat": 4,
  "nbformat_minor": 0,
  "metadata": {
    "colab": {
      "name": "Lynneice McNutt_DSPT9_DS_Unit_1_Sprint_Challenge_1_Data_Wrangling_and_Storytelling.ipynb",
      "provenance": [],
      "include_colab_link": true
    },
    "kernelspec": {
      "name": "python3",
      "display_name": "Python 3"
    }
  },
  "cells": [
    {
      "cell_type": "markdown",
      "metadata": {
        "id": "view-in-github",
        "colab_type": "text"
      },
      "source": [
        "<a href=\"https://colab.research.google.com/github/Lynneice/DS-Unit-1-Sprint-1-Data-Wrangling-and-Storytelling/blob/master/Lynneice_McNutt_DSPT9_DS_Unit_1_Sprint_Challenge_1_Data_Wrangling_and_Storytelling.ipynb\" target=\"_parent\"><img src=\"https://colab.research.google.com/assets/colab-badge.svg\" alt=\"Open In Colab\"/></a>"
      ]
    },
    {
      "cell_type": "markdown",
      "metadata": {
        "id": "2kYJKHpXFbN2"
      },
      "source": [
        "# Data Science Unit 1 Sprint Challenge 1\n",
        "\n",
        "## Data Wrangling and Storytelling\n",
        "\n",
        "Taming data from its raw form into informative insights and stories."
      ]
    },
    {
      "cell_type": "markdown",
      "metadata": {
        "id": "qSvL3CeTFk9F"
      },
      "source": [
        "## Data Wrangling\n",
        "\n",
        "In this Sprint Challenge you will first \"wrangle\" some data from [Gapminder](https://www.gapminder.org/about-gapminder/), a Swedish non-profit co-founded by Hans Rosling. \"Gapminder produces free teaching resources making the world understandable based on reliable statistics.\"\n",
        "- [Cell phones (total), by country and year](https://raw.githubusercontent.com/open-numbers/ddf--gapminder--systema_globalis/master/ddf--datapoints--cell_phones_total--by--geo--time.csv)\n",
        "- [Population (total), by country and year](https://raw.githubusercontent.com/open-numbers/ddf--gapminder--systema_globalis/master/ddf--datapoints--population_total--by--geo--time.csv)\n",
        "- [Geo country codes](https://github.com/open-numbers/ddf--gapminder--systema_globalis/blob/master/ddf--entities--geo--country.csv)\n",
        "\n",
        "These two links have everything you need to successfully complete the first part of this sprint challenge.\n",
        "- [Pandas documentation: Working with Text Data](https://pandas.pydata.org/pandas-docs/stable/text.html) (one question)\n",
        "- [Pandas Cheat Sheet](https://github.com/pandas-dev/pandas/blob/master/doc/cheatsheet/Pandas_Cheat_Sheet.pdf) (everything else)"
      ]
    },
    {
      "cell_type": "markdown",
      "metadata": {
        "id": "_45iUXguF3cJ"
      },
      "source": [
        "### Part 1 - Load and Explore the Data\n",
        "\n",
        "Run the cell below to load the datasets into three dataframes and then follow the instructions below\n"
      ]
    },
    {
      "cell_type": "code",
      "metadata": {
        "id": "4OuxHNZzFpGT"
      },
      "source": [
        "import pandas as pd\n",
        "\n",
        "cell_phones = pd.read_csv('https://raw.githubusercontent.com/open-numbers/ddf--gapminder--systema_globalis/master/countries-etc-datapoints/ddf--datapoints--cell_phones_total--by--geo--time.csv')\n",
        "\n",
        "population = pd.read_csv('https://raw.githubusercontent.com/open-numbers/ddf--gapminder--systema_globalis/master/countries-etc-datapoints/ddf--datapoints--population_total--by--geo--time.csv')\n",
        "\n",
        "geo_country_codes = (pd.read_csv('https://raw.githubusercontent.com/open-numbers/ddf--gapminder--systema_globalis/master/ddf--entities--geo--country.csv')\n",
        "                       .rename(columns={'country': 'geo', 'name': 'country'}))\n",
        "\n",
        "geo_country_codes = geo_country_codes[['geo','country']]"
      ],
      "execution_count": null,
      "outputs": []
    },
    {
      "cell_type": "code",
      "metadata": {
        "id": "EixWLcO-cLa4",
        "colab": {
          "base_uri": "https://localhost:8080/",
          "height": 204
        },
        "outputId": "27720e18-9037-4f15-bbbc-b1f87a8c5868"
      },
      "source": [
        "cell_phones.head()"
      ],
      "execution_count": null,
      "outputs": [
        {
          "output_type": "execute_result",
          "data": {
            "text/html": [
              "<div>\n",
              "<style scoped>\n",
              "    .dataframe tbody tr th:only-of-type {\n",
              "        vertical-align: middle;\n",
              "    }\n",
              "\n",
              "    .dataframe tbody tr th {\n",
              "        vertical-align: top;\n",
              "    }\n",
              "\n",
              "    .dataframe thead th {\n",
              "        text-align: right;\n",
              "    }\n",
              "</style>\n",
              "<table border=\"1\" class=\"dataframe\">\n",
              "  <thead>\n",
              "    <tr style=\"text-align: right;\">\n",
              "      <th></th>\n",
              "      <th>geo</th>\n",
              "      <th>time</th>\n",
              "      <th>cell_phones_total</th>\n",
              "    </tr>\n",
              "  </thead>\n",
              "  <tbody>\n",
              "    <tr>\n",
              "      <th>0</th>\n",
              "      <td>abw</td>\n",
              "      <td>1960</td>\n",
              "      <td>0.0</td>\n",
              "    </tr>\n",
              "    <tr>\n",
              "      <th>1</th>\n",
              "      <td>abw</td>\n",
              "      <td>1965</td>\n",
              "      <td>0.0</td>\n",
              "    </tr>\n",
              "    <tr>\n",
              "      <th>2</th>\n",
              "      <td>abw</td>\n",
              "      <td>1970</td>\n",
              "      <td>0.0</td>\n",
              "    </tr>\n",
              "    <tr>\n",
              "      <th>3</th>\n",
              "      <td>abw</td>\n",
              "      <td>1975</td>\n",
              "      <td>0.0</td>\n",
              "    </tr>\n",
              "    <tr>\n",
              "      <th>4</th>\n",
              "      <td>abw</td>\n",
              "      <td>1976</td>\n",
              "      <td>0.0</td>\n",
              "    </tr>\n",
              "  </tbody>\n",
              "</table>\n",
              "</div>"
            ],
            "text/plain": [
              "   geo  time  cell_phones_total\n",
              "0  abw  1960                0.0\n",
              "1  abw  1965                0.0\n",
              "2  abw  1970                0.0\n",
              "3  abw  1975                0.0\n",
              "4  abw  1976                0.0"
            ]
          },
          "metadata": {
            "tags": []
          },
          "execution_count": 2
        }
      ]
    },
    {
      "cell_type": "markdown",
      "metadata": {
        "id": "49XlFKmVIPl1"
      },
      "source": [
        "Check for missing/null values in the three dataframes"
      ]
    },
    {
      "cell_type": "code",
      "metadata": {
        "id": "SwmSvUySJjXc",
        "colab": {
          "base_uri": "https://localhost:8080/",
          "height": 238
        },
        "outputId": "d5aa23c3-614a-4d52-c2a0-d27dcd74f253"
      },
      "source": [
        "# Your Work Here\n",
        "# Your Work Here\n",
        "#Check for missing/null values in the three dataframes\n",
        "print(cell_phones.isnull().sum())\n",
        "print()\n",
        "print(population.isnull().sum())\n",
        "print()\n",
        "print(geo_country_codes.isnull().sum())"
      ],
      "execution_count": null,
      "outputs": [
        {
          "output_type": "stream",
          "text": [
            "geo                  0\n",
            "time                 0\n",
            "cell_phones_total    0\n",
            "dtype: int64\n",
            "\n",
            "geo                 0\n",
            "time                0\n",
            "population_total    0\n",
            "dtype: int64\n",
            "\n",
            "geo        0\n",
            "country    0\n",
            "dtype: int64\n"
          ],
          "name": "stdout"
        }
      ]
    },
    {
      "cell_type": "markdown",
      "metadata": {
        "id": "83ovVS6qIWS1"
      },
      "source": [
        "Make a scatter plot from the `cell_phones` dataframe plotting \"time\" against \"cell_phones_total\""
      ]
    },
    {
      "cell_type": "code",
      "metadata": {
        "id": "ewdGy4NfG9vA",
        "colab": {
          "base_uri": "https://localhost:8080/",
          "height": 290
        },
        "outputId": "9ec1d127-a62e-44db-80e1-a0147b419e6c"
      },
      "source": [
        "# Your Work Here\n",
        "import matplotlib as plt\n",
        "cell_phones.plot(x=['time'], y=['cell_phones_total'], kind='scatter');"
      ],
      "execution_count": null,
      "outputs": [
        {
          "output_type": "display_data",
          "data": {
            "image/png": "[encoded data removed]",
            "text/plain": [
              "<Figure size 432x288 with 1 Axes>"
            ]
          },
          "metadata": {
            "tags": [],
            "needs_background": "light"
          }
        }
      ]
    },
    {
      "cell_type": "markdown",
      "metadata": {
        "id": "IvJMtxmBI27k"
      },
      "source": [
        "### Part 2 - Join data\n",
        "\n",
        "First, join the `cell_phones` and `population` dataframes (with an inner join on `geo` and `time`).\n",
        "\n",
        "The resulting dataframe's shape should be: (8590, 4)"
      ]
    },
    {
      "cell_type": "code",
      "metadata": {
        "id": "MFMA06QjG1KT",
        "colab": {
          "base_uri": "https://localhost:8080/",
          "height": 34
        },
        "outputId": "83e76275-0726-4c3a-bdd5-e861ef606099"
      },
      "source": [
        "# Your Work Here\n",
        "cell_phones.shape"
      ],
      "execution_count": null,
      "outputs": [
        {
          "output_type": "execute_result",
          "data": {
            "text/plain": [
              "(9427, 3)"
            ]
          },
          "metadata": {
            "tags": []
          },
          "execution_count": 5
        }
      ]
    },
    {
      "cell_type": "code",
      "metadata": {
        "id": "D0lGTqElaWtU",
        "colab": {
          "base_uri": "https://localhost:8080/",
          "height": 34
        },
        "outputId": "43ab07c7-7b28-44e0-80d0-b9192cd2295b"
      },
      "source": [
        "population.shape"
      ],
      "execution_count": null,
      "outputs": [
        {
          "output_type": "execute_result",
          "data": {
            "text/plain": [
              "(59297, 3)"
            ]
          },
          "metadata": {
            "tags": []
          },
          "execution_count": 6
        }
      ]
    },
    {
      "cell_type": "code",
      "metadata": {
        "id": "QGotwf1Oac9y"
      },
      "source": [
        "celltest = cell_phones.iloc[:,:2]\n",
        "poptest = population.iloc[:,:2]"
      ],
      "execution_count": null,
      "outputs": []
    },
    {
      "cell_type": "code",
      "metadata": {
        "id": "-VxHofx-ahEw",
        "colab": {
          "base_uri": "https://localhost:8080/",
          "height": 34
        },
        "outputId": "5e5b1eda-b08f-479c-acbd-a9889daf400b"
      },
      "source": [
        "cellpoptest = pd.merge(celltest,poptest)\n",
        "cellpoptest.shape"
      ],
      "execution_count": null,
      "outputs": [
        {
          "output_type": "execute_result",
          "data": {
            "text/plain": [
              "(8786, 2)"
            ]
          },
          "metadata": {
            "tags": []
          },
          "execution_count": 8
        }
      ]
    },
    {
      "cell_type": "code",
      "metadata": {
        "id": "2kCUnTzBakiU",
        "colab": {
          "base_uri": "https://localhost:8080/",
          "height": 34
        },
        "outputId": "63452118-2c29-47db-db20-9b9f08de2302"
      },
      "source": [
        "# Your Work Here\n",
        "cell_pop = cell_phones.merge(population, on=['geo', 'time'], how='inner')\n",
        "\n",
        "# cell_pop = pd.merge(population, cell_phones, on=['geo', 'time'])\n",
        "\n",
        "cell_pop.shape"
      ],
      "execution_count": null,
      "outputs": [
        {
          "output_type": "execute_result",
          "data": {
            "text/plain": [
              "(8786, 4)"
            ]
          },
          "metadata": {
            "tags": []
          },
          "execution_count": 9
        }
      ]
    },
    {
      "cell_type": "code",
      "metadata": {
        "id": "mLbhGfNYaoNU",
        "colab": {
          "base_uri": "https://localhost:8080/",
          "height": 204
        },
        "outputId": "3215a033-feda-4397-feac-24c25a0282e3"
      },
      "source": [
        "cell_pop.head()"
      ],
      "execution_count": null,
      "outputs": [
        {
          "output_type": "execute_result",
          "data": {
            "text/html": [
              "<div>\n",
              "<style scoped>\n",
              "    .dataframe tbody tr th:only-of-type {\n",
              "        vertical-align: middle;\n",
              "    }\n",
              "\n",
              "    .dataframe tbody tr th {\n",
              "        vertical-align: top;\n",
              "    }\n",
              "\n",
              "    .dataframe thead th {\n",
              "        text-align: right;\n",
              "    }\n",
              "</style>\n",
              "<table border=\"1\" class=\"dataframe\">\n",
              "  <thead>\n",
              "    <tr style=\"text-align: right;\">\n",
              "      <th></th>\n",
              "      <th>geo</th>\n",
              "      <th>time</th>\n",
              "      <th>cell_phones_total</th>\n",
              "      <th>population_total</th>\n",
              "    </tr>\n",
              "  </thead>\n",
              "  <tbody>\n",
              "    <tr>\n",
              "      <th>0</th>\n",
              "      <td>afg</td>\n",
              "      <td>1960</td>\n",
              "      <td>0.0</td>\n",
              "      <td>8996967</td>\n",
              "    </tr>\n",
              "    <tr>\n",
              "      <th>1</th>\n",
              "      <td>afg</td>\n",
              "      <td>1965</td>\n",
              "      <td>0.0</td>\n",
              "      <td>9956318</td>\n",
              "    </tr>\n",
              "    <tr>\n",
              "      <th>2</th>\n",
              "      <td>afg</td>\n",
              "      <td>1970</td>\n",
              "      <td>0.0</td>\n",
              "      <td>11173654</td>\n",
              "    </tr>\n",
              "    <tr>\n",
              "      <th>3</th>\n",
              "      <td>afg</td>\n",
              "      <td>1975</td>\n",
              "      <td>0.0</td>\n",
              "      <td>12689164</td>\n",
              "    </tr>\n",
              "    <tr>\n",
              "      <th>4</th>\n",
              "      <td>afg</td>\n",
              "      <td>1976</td>\n",
              "      <td>0.0</td>\n",
              "      <td>12943093</td>\n",
              "    </tr>\n",
              "  </tbody>\n",
              "</table>\n",
              "</div>"
            ],
            "text/plain": [
              "   geo  time  cell_phones_total  population_total\n",
              "0  afg  1960                0.0           8996967\n",
              "1  afg  1965                0.0           9956318\n",
              "2  afg  1970                0.0          11173654\n",
              "3  afg  1975                0.0          12689164\n",
              "4  afg  1976                0.0          12943093"
            ]
          },
          "metadata": {
            "tags": []
          },
          "execution_count": 10
        }
      ]
    },
    {
      "cell_type": "markdown",
      "metadata": {
        "id": "lziNWF2eJZwC"
      },
      "source": [
        "Then, select the `geo` and `country` columns from the `geo_country_codes` dataframe, and join with your population and cell phone data.\n",
        "\n",
        "The resulting dataframe's shape should be: (8590, 5)"
      ]
    },
    {
      "cell_type": "code",
      "metadata": {
        "id": "KQa2Jw9gJa-g",
        "colab": {
          "base_uri": "https://localhost:8080/",
          "height": 824
        },
        "outputId": "cbb6bdfb-8a74-4456-b64a-1aa5b2440e82"
      },
      "source": [
        "# Your Work Here\n",
        "#merge country codes with created df\n",
        "geo_cell_pop = cell_pop.merge(geo_country_codes[['geo', 'country']], on='geo')\n",
        "\n",
        "geo_cell_pop.head(25)"
      ],
      "execution_count": null,
      "outputs": [
        {
          "output_type": "execute_result",
          "data": {
            "text/html": [
              "<div>\n",
              "<style scoped>\n",
              "    .dataframe tbody tr th:only-of-type {\n",
              "        vertical-align: middle;\n",
              "    }\n",
              "\n",
              "    .dataframe tbody tr th {\n",
              "        vertical-align: top;\n",
              "    }\n",
              "\n",
              "    .dataframe thead th {\n",
              "        text-align: right;\n",
              "    }\n",
              "</style>\n",
              "<table border=\"1\" class=\"dataframe\">\n",
              "  <thead>\n",
              "    <tr style=\"text-align: right;\">\n",
              "      <th></th>\n",
              "      <th>geo</th>\n",
              "      <th>time</th>\n",
              "      <th>cell_phones_total</th>\n",
              "      <th>population_total</th>\n",
              "      <th>country</th>\n",
              "    </tr>\n",
              "  </thead>\n",
              "  <tbody>\n",
              "    <tr>\n",
              "      <th>0</th>\n",
              "      <td>afg</td>\n",
              "      <td>1960</td>\n",
              "      <td>0.0</td>\n",
              "      <td>8996967</td>\n",
              "      <td>Afghanistan</td>\n",
              "    </tr>\n",
              "    <tr>\n",
              "      <th>1</th>\n",
              "      <td>afg</td>\n",
              "      <td>1965</td>\n",
              "      <td>0.0</td>\n",
              "      <td>9956318</td>\n",
              "      <td>Afghanistan</td>\n",
              "    </tr>\n",
              "    <tr>\n",
              "      <th>2</th>\n",
              "      <td>afg</td>\n",
              "      <td>1970</td>\n",
              "      <td>0.0</td>\n",
              "      <td>11173654</td>\n",
              "      <td>Afghanistan</td>\n",
              "    </tr>\n",
              "    <tr>\n",
              "      <th>3</th>\n",
              "      <td>afg</td>\n",
              "      <td>1975</td>\n",
              "      <td>0.0</td>\n",
              "      <td>12689164</td>\n",
              "      <td>Afghanistan</td>\n",
              "    </tr>\n",
              "    <tr>\n",
              "      <th>4</th>\n",
              "      <td>afg</td>\n",
              "      <td>1976</td>\n",
              "      <td>0.0</td>\n",
              "      <td>12943093</td>\n",
              "      <td>Afghanistan</td>\n",
              "    </tr>\n",
              "    <tr>\n",
              "      <th>5</th>\n",
              "      <td>afg</td>\n",
              "      <td>1977</td>\n",
              "      <td>0.0</td>\n",
              "      <td>13171294</td>\n",
              "      <td>Afghanistan</td>\n",
              "    </tr>\n",
              "    <tr>\n",
              "      <th>6</th>\n",
              "      <td>afg</td>\n",
              "      <td>1978</td>\n",
              "      <td>0.0</td>\n",
              "      <td>13341199</td>\n",
              "      <td>Afghanistan</td>\n",
              "    </tr>\n",
              "    <tr>\n",
              "      <th>7</th>\n",
              "      <td>afg</td>\n",
              "      <td>1979</td>\n",
              "      <td>0.0</td>\n",
              "      <td>13411060</td>\n",
              "      <td>Afghanistan</td>\n",
              "    </tr>\n",
              "    <tr>\n",
              "      <th>8</th>\n",
              "      <td>afg</td>\n",
              "      <td>1980</td>\n",
              "      <td>0.0</td>\n",
              "      <td>13356500</td>\n",
              "      <td>Afghanistan</td>\n",
              "    </tr>\n",
              "    <tr>\n",
              "      <th>9</th>\n",
              "      <td>afg</td>\n",
              "      <td>1981</td>\n",
              "      <td>0.0</td>\n",
              "      <td>13171679</td>\n",
              "      <td>Afghanistan</td>\n",
              "    </tr>\n",
              "    <tr>\n",
              "      <th>10</th>\n",
              "      <td>afg</td>\n",
              "      <td>1982</td>\n",
              "      <td>0.0</td>\n",
              "      <td>12882518</td>\n",
              "      <td>Afghanistan</td>\n",
              "    </tr>\n",
              "    <tr>\n",
              "      <th>11</th>\n",
              "      <td>afg</td>\n",
              "      <td>1983</td>\n",
              "      <td>0.0</td>\n",
              "      <td>12537732</td>\n",
              "      <td>Afghanistan</td>\n",
              "    </tr>\n",
              "    <tr>\n",
              "      <th>12</th>\n",
              "      <td>afg</td>\n",
              "      <td>1984</td>\n",
              "      <td>0.0</td>\n",
              "      <td>12204306</td>\n",
              "      <td>Afghanistan</td>\n",
              "    </tr>\n",
              "    <tr>\n",
              "      <th>13</th>\n",
              "      <td>afg</td>\n",
              "      <td>1985</td>\n",
              "      <td>0.0</td>\n",
              "      <td>11938204</td>\n",
              "      <td>Afghanistan</td>\n",
              "    </tr>\n",
              "    <tr>\n",
              "      <th>14</th>\n",
              "      <td>afg</td>\n",
              "      <td>1986</td>\n",
              "      <td>0.0</td>\n",
              "      <td>11736177</td>\n",
              "      <td>Afghanistan</td>\n",
              "    </tr>\n",
              "    <tr>\n",
              "      <th>15</th>\n",
              "      <td>afg</td>\n",
              "      <td>1987</td>\n",
              "      <td>0.0</td>\n",
              "      <td>11604538</td>\n",
              "      <td>Afghanistan</td>\n",
              "    </tr>\n",
              "    <tr>\n",
              "      <th>16</th>\n",
              "      <td>afg</td>\n",
              "      <td>1988</td>\n",
              "      <td>0.0</td>\n",
              "      <td>11618008</td>\n",
              "      <td>Afghanistan</td>\n",
              "    </tr>\n",
              "    <tr>\n",
              "      <th>17</th>\n",
              "      <td>afg</td>\n",
              "      <td>1989</td>\n",
              "      <td>0.0</td>\n",
              "      <td>11868873</td>\n",
              "      <td>Afghanistan</td>\n",
              "    </tr>\n",
              "    <tr>\n",
              "      <th>18</th>\n",
              "      <td>afg</td>\n",
              "      <td>1990</td>\n",
              "      <td>0.0</td>\n",
              "      <td>12412311</td>\n",
              "      <td>Afghanistan</td>\n",
              "    </tr>\n",
              "    <tr>\n",
              "      <th>19</th>\n",
              "      <td>afg</td>\n",
              "      <td>1991</td>\n",
              "      <td>0.0</td>\n",
              "      <td>13299016</td>\n",
              "      <td>Afghanistan</td>\n",
              "    </tr>\n",
              "    <tr>\n",
              "      <th>20</th>\n",
              "      <td>afg</td>\n",
              "      <td>1992</td>\n",
              "      <td>0.0</td>\n",
              "      <td>14485543</td>\n",
              "      <td>Afghanistan</td>\n",
              "    </tr>\n",
              "    <tr>\n",
              "      <th>21</th>\n",
              "      <td>afg</td>\n",
              "      <td>1993</td>\n",
              "      <td>0.0</td>\n",
              "      <td>15816601</td>\n",
              "      <td>Afghanistan</td>\n",
              "    </tr>\n",
              "    <tr>\n",
              "      <th>22</th>\n",
              "      <td>afg</td>\n",
              "      <td>1994</td>\n",
              "      <td>0.0</td>\n",
              "      <td>17075728</td>\n",
              "      <td>Afghanistan</td>\n",
              "    </tr>\n",
              "    <tr>\n",
              "      <th>23</th>\n",
              "      <td>afg</td>\n",
              "      <td>1995</td>\n",
              "      <td>0.0</td>\n",
              "      <td>18110662</td>\n",
              "      <td>Afghanistan</td>\n",
              "    </tr>\n",
              "    <tr>\n",
              "      <th>24</th>\n",
              "      <td>afg</td>\n",
              "      <td>1996</td>\n",
              "      <td>0.0</td>\n",
              "      <td>18853444</td>\n",
              "      <td>Afghanistan</td>\n",
              "    </tr>\n",
              "  </tbody>\n",
              "</table>\n",
              "</div>"
            ],
            "text/plain": [
              "    geo  time  cell_phones_total  population_total      country\n",
              "0   afg  1960                0.0           8996967  Afghanistan\n",
              "1   afg  1965                0.0           9956318  Afghanistan\n",
              "2   afg  1970                0.0          11173654  Afghanistan\n",
              "3   afg  1975                0.0          12689164  Afghanistan\n",
              "4   afg  1976                0.0          12943093  Afghanistan\n",
              "5   afg  1977                0.0          13171294  Afghanistan\n",
              "6   afg  1978                0.0          13341199  Afghanistan\n",
              "7   afg  1979                0.0          13411060  Afghanistan\n",
              "8   afg  1980                0.0          13356500  Afghanistan\n",
              "9   afg  1981                0.0          13171679  Afghanistan\n",
              "10  afg  1982                0.0          12882518  Afghanistan\n",
              "11  afg  1983                0.0          12537732  Afghanistan\n",
              "12  afg  1984                0.0          12204306  Afghanistan\n",
              "13  afg  1985                0.0          11938204  Afghanistan\n",
              "14  afg  1986                0.0          11736177  Afghanistan\n",
              "15  afg  1987                0.0          11604538  Afghanistan\n",
              "16  afg  1988                0.0          11618008  Afghanistan\n",
              "17  afg  1989                0.0          11868873  Afghanistan\n",
              "18  afg  1990                0.0          12412311  Afghanistan\n",
              "19  afg  1991                0.0          13299016  Afghanistan\n",
              "20  afg  1992                0.0          14485543  Afghanistan\n",
              "21  afg  1993                0.0          15816601  Afghanistan\n",
              "22  afg  1994                0.0          17075728  Afghanistan\n",
              "23  afg  1995                0.0          18110662  Afghanistan\n",
              "24  afg  1996                0.0          18853444  Afghanistan"
            ]
          },
          "metadata": {
            "tags": []
          },
          "execution_count": 11
        }
      ]
    },
    {
      "cell_type": "code",
      "metadata": {
        "id": "TQ_t7SLta05k",
        "colab": {
          "base_uri": "https://localhost:8080/",
          "height": 34
        },
        "outputId": "9efd54f8-421a-42dc-f17c-b067808f3513"
      },
      "source": [
        "#not sure about the shape being so off, it doesn't change no matter how i try\n",
        "geo_cell_pop.shape"
      ],
      "execution_count": null,
      "outputs": [
        {
          "output_type": "execute_result",
          "data": {
            "text/plain": [
              "(8786, 5)"
            ]
          },
          "metadata": {
            "tags": []
          },
          "execution_count": 12
        }
      ]
    },
    {
      "cell_type": "markdown",
      "metadata": {
        "id": "8xjRfkOjKECI"
      },
      "source": [
        "### Part 3 - Make features\n",
        "\n",
        "Calculate the number of cell phones per person, and add this column onto your dataframe.\n",
        "\n",
        "(You've calculated correctly if you get 1.220 cell phones per person in the United States in 2017.)"
      ]
    },
    {
      "cell_type": "code",
      "metadata": {
        "id": "lOgLvqCQKFwY",
        "colab": {
          "base_uri": "https://localhost:8080/",
          "height": 1000
        },
        "outputId": "33e0ba09-0fc4-4d0a-bc0e-01c06af4d52c"
      },
      "source": [
        "# Your Work Here \n",
        "geo_cell_pop['per_person'] = geo_cell_pop['cell_phones_total'] / geo_cell_pop['population_total']\n",
        "\n",
        "geo_cell_pop[geo_cell_pop['country']=='United States']"
      ],
      "execution_count": null,
      "outputs": [
        {
          "output_type": "execute_result",
          "data": {
            "text/html": [
              "<div>\n",
              "<style scoped>\n",
              "    .dataframe tbody tr th:only-of-type {\n",
              "        vertical-align: middle;\n",
              "    }\n",
              "\n",
              "    .dataframe tbody tr th {\n",
              "        vertical-align: top;\n",
              "    }\n",
              "\n",
              "    .dataframe thead th {\n",
              "        text-align: right;\n",
              "    }\n",
              "</style>\n",
              "<table border=\"1\" class=\"dataframe\">\n",
              "  <thead>\n",
              "    <tr style=\"text-align: right;\">\n",
              "      <th></th>\n",
              "      <th>geo</th>\n",
              "      <th>time</th>\n",
              "      <th>cell_phones_total</th>\n",
              "      <th>population_total</th>\n",
              "      <th>country</th>\n",
              "      <th>per_person</th>\n",
              "    </tr>\n",
              "  </thead>\n",
              "  <tbody>\n",
              "    <tr>\n",
              "      <th>8277</th>\n",
              "      <td>usa</td>\n",
              "      <td>1960</td>\n",
              "      <td>0.0</td>\n",
              "      <td>186720570</td>\n",
              "      <td>United States</td>\n",
              "      <td>0.000000</td>\n",
              "    </tr>\n",
              "    <tr>\n",
              "      <th>8278</th>\n",
              "      <td>usa</td>\n",
              "      <td>1965</td>\n",
              "      <td>0.0</td>\n",
              "      <td>199733679</td>\n",
              "      <td>United States</td>\n",
              "      <td>0.000000</td>\n",
              "    </tr>\n",
              "    <tr>\n",
              "      <th>8279</th>\n",
              "      <td>usa</td>\n",
              "      <td>1970</td>\n",
              "      <td>0.0</td>\n",
              "      <td>209513340</td>\n",
              "      <td>United States</td>\n",
              "      <td>0.000000</td>\n",
              "    </tr>\n",
              "    <tr>\n",
              "      <th>8280</th>\n",
              "      <td>usa</td>\n",
              "      <td>1975</td>\n",
              "      <td>0.0</td>\n",
              "      <td>219081250</td>\n",
              "      <td>United States</td>\n",
              "      <td>0.000000</td>\n",
              "    </tr>\n",
              "    <tr>\n",
              "      <th>8281</th>\n",
              "      <td>usa</td>\n",
              "      <td>1976</td>\n",
              "      <td>0.0</td>\n",
              "      <td>221086427</td>\n",
              "      <td>United States</td>\n",
              "      <td>0.000000</td>\n",
              "    </tr>\n",
              "    <tr>\n",
              "      <th>8282</th>\n",
              "      <td>usa</td>\n",
              "      <td>1977</td>\n",
              "      <td>0.0</td>\n",
              "      <td>223135659</td>\n",
              "      <td>United States</td>\n",
              "      <td>0.000000</td>\n",
              "    </tr>\n",
              "    <tr>\n",
              "      <th>8283</th>\n",
              "      <td>usa</td>\n",
              "      <td>1978</td>\n",
              "      <td>0.0</td>\n",
              "      <td>225223307</td>\n",
              "      <td>United States</td>\n",
              "      <td>0.000000</td>\n",
              "    </tr>\n",
              "    <tr>\n",
              "      <th>8284</th>\n",
              "      <td>usa</td>\n",
              "      <td>1979</td>\n",
              "      <td>0.0</td>\n",
              "      <td>227339321</td>\n",
              "      <td>United States</td>\n",
              "      <td>0.000000</td>\n",
              "    </tr>\n",
              "    <tr>\n",
              "      <th>8285</th>\n",
              "      <td>usa</td>\n",
              "      <td>1980</td>\n",
              "      <td>0.0</td>\n",
              "      <td>229476360</td>\n",
              "      <td>United States</td>\n",
              "      <td>0.000000</td>\n",
              "    </tr>\n",
              "    <tr>\n",
              "      <th>8286</th>\n",
              "      <td>usa</td>\n",
              "      <td>1984</td>\n",
              "      <td>91600.0</td>\n",
              "      <td>238256849</td>\n",
              "      <td>United States</td>\n",
              "      <td>0.000384</td>\n",
              "    </tr>\n",
              "    <tr>\n",
              "      <th>8287</th>\n",
              "      <td>usa</td>\n",
              "      <td>1985</td>\n",
              "      <td>340213.0</td>\n",
              "      <td>240499822</td>\n",
              "      <td>United States</td>\n",
              "      <td>0.001415</td>\n",
              "    </tr>\n",
              "    <tr>\n",
              "      <th>8288</th>\n",
              "      <td>usa</td>\n",
              "      <td>1986</td>\n",
              "      <td>681825.0</td>\n",
              "      <td>242763137</td>\n",
              "      <td>United States</td>\n",
              "      <td>0.002809</td>\n",
              "    </tr>\n",
              "    <tr>\n",
              "      <th>8289</th>\n",
              "      <td>usa</td>\n",
              "      <td>1987</td>\n",
              "      <td>1230855.0</td>\n",
              "      <td>245052780</td>\n",
              "      <td>United States</td>\n",
              "      <td>0.005023</td>\n",
              "    </tr>\n",
              "    <tr>\n",
              "      <th>8290</th>\n",
              "      <td>usa</td>\n",
              "      <td>1988</td>\n",
              "      <td>2069441.0</td>\n",
              "      <td>247372258</td>\n",
              "      <td>United States</td>\n",
              "      <td>0.008366</td>\n",
              "    </tr>\n",
              "    <tr>\n",
              "      <th>8291</th>\n",
              "      <td>usa</td>\n",
              "      <td>1989</td>\n",
              "      <td>3508944.0</td>\n",
              "      <td>249725809</td>\n",
              "      <td>United States</td>\n",
              "      <td>0.014051</td>\n",
              "    </tr>\n",
              "    <tr>\n",
              "      <th>8292</th>\n",
              "      <td>usa</td>\n",
              "      <td>1990</td>\n",
              "      <td>5283055.0</td>\n",
              "      <td>252120309</td>\n",
              "      <td>United States</td>\n",
              "      <td>0.020954</td>\n",
              "    </tr>\n",
              "    <tr>\n",
              "      <th>8293</th>\n",
              "      <td>usa</td>\n",
              "      <td>1991</td>\n",
              "      <td>7557148.0</td>\n",
              "      <td>254539371</td>\n",
              "      <td>United States</td>\n",
              "      <td>0.029690</td>\n",
              "    </tr>\n",
              "    <tr>\n",
              "      <th>8294</th>\n",
              "      <td>usa</td>\n",
              "      <td>1992</td>\n",
              "      <td>11032753.0</td>\n",
              "      <td>256990608</td>\n",
              "      <td>United States</td>\n",
              "      <td>0.042931</td>\n",
              "    </tr>\n",
              "    <tr>\n",
              "      <th>8295</th>\n",
              "      <td>usa</td>\n",
              "      <td>1993</td>\n",
              "      <td>16009461.0</td>\n",
              "      <td>259532130</td>\n",
              "      <td>United States</td>\n",
              "      <td>0.061686</td>\n",
              "    </tr>\n",
              "    <tr>\n",
              "      <th>8296</th>\n",
              "      <td>usa</td>\n",
              "      <td>1994</td>\n",
              "      <td>24134421.0</td>\n",
              "      <td>262241204</td>\n",
              "      <td>United States</td>\n",
              "      <td>0.092031</td>\n",
              "    </tr>\n",
              "    <tr>\n",
              "      <th>8297</th>\n",
              "      <td>usa</td>\n",
              "      <td>1995</td>\n",
              "      <td>33785661.0</td>\n",
              "      <td>265163741</td>\n",
              "      <td>United States</td>\n",
              "      <td>0.127414</td>\n",
              "    </tr>\n",
              "    <tr>\n",
              "      <th>8298</th>\n",
              "      <td>usa</td>\n",
              "      <td>1996</td>\n",
              "      <td>44042992.0</td>\n",
              "      <td>268335008</td>\n",
              "      <td>United States</td>\n",
              "      <td>0.164134</td>\n",
              "    </tr>\n",
              "    <tr>\n",
              "      <th>8299</th>\n",
              "      <td>usa</td>\n",
              "      <td>1997</td>\n",
              "      <td>55312293.0</td>\n",
              "      <td>271713634</td>\n",
              "      <td>United States</td>\n",
              "      <td>0.203568</td>\n",
              "    </tr>\n",
              "    <tr>\n",
              "      <th>8300</th>\n",
              "      <td>usa</td>\n",
              "      <td>1998</td>\n",
              "      <td>69209321.0</td>\n",
              "      <td>275175309</td>\n",
              "      <td>United States</td>\n",
              "      <td>0.251510</td>\n",
              "    </tr>\n",
              "    <tr>\n",
              "      <th>8301</th>\n",
              "      <td>usa</td>\n",
              "      <td>1999</td>\n",
              "      <td>86047003.0</td>\n",
              "      <td>278548148</td>\n",
              "      <td>United States</td>\n",
              "      <td>0.308912</td>\n",
              "    </tr>\n",
              "    <tr>\n",
              "      <th>8302</th>\n",
              "      <td>usa</td>\n",
              "      <td>2000</td>\n",
              "      <td>109478031.0</td>\n",
              "      <td>281710914</td>\n",
              "      <td>United States</td>\n",
              "      <td>0.388618</td>\n",
              "    </tr>\n",
              "    <tr>\n",
              "      <th>8303</th>\n",
              "      <td>usa</td>\n",
              "      <td>2001</td>\n",
              "      <td>128500000.0</td>\n",
              "      <td>284607992</td>\n",
              "      <td>United States</td>\n",
              "      <td>0.451498</td>\n",
              "    </tr>\n",
              "    <tr>\n",
              "      <th>8304</th>\n",
              "      <td>usa</td>\n",
              "      <td>2002</td>\n",
              "      <td>141800000.0</td>\n",
              "      <td>287279312</td>\n",
              "      <td>United States</td>\n",
              "      <td>0.493596</td>\n",
              "    </tr>\n",
              "    <tr>\n",
              "      <th>8305</th>\n",
              "      <td>usa</td>\n",
              "      <td>2003</td>\n",
              "      <td>160637000.0</td>\n",
              "      <td>289815567</td>\n",
              "      <td>United States</td>\n",
              "      <td>0.554273</td>\n",
              "    </tr>\n",
              "    <tr>\n",
              "      <th>8306</th>\n",
              "      <td>usa</td>\n",
              "      <td>2004</td>\n",
              "      <td>184819000.0</td>\n",
              "      <td>292354663</td>\n",
              "      <td>United States</td>\n",
              "      <td>0.632174</td>\n",
              "    </tr>\n",
              "    <tr>\n",
              "      <th>8307</th>\n",
              "      <td>usa</td>\n",
              "      <td>2005</td>\n",
              "      <td>203700000.0</td>\n",
              "      <td>294993509</td>\n",
              "      <td>United States</td>\n",
              "      <td>0.690524</td>\n",
              "    </tr>\n",
              "    <tr>\n",
              "      <th>8308</th>\n",
              "      <td>usa</td>\n",
              "      <td>2006</td>\n",
              "      <td>229600000.0</td>\n",
              "      <td>297758977</td>\n",
              "      <td>United States</td>\n",
              "      <td>0.771093</td>\n",
              "    </tr>\n",
              "    <tr>\n",
              "      <th>8309</th>\n",
              "      <td>usa</td>\n",
              "      <td>2007</td>\n",
              "      <td>249300000.0</td>\n",
              "      <td>300608425</td>\n",
              "      <td>United States</td>\n",
              "      <td>0.829318</td>\n",
              "    </tr>\n",
              "    <tr>\n",
              "      <th>8310</th>\n",
              "      <td>usa</td>\n",
              "      <td>2008</td>\n",
              "      <td>261300000.0</td>\n",
              "      <td>303486022</td>\n",
              "      <td>United States</td>\n",
              "      <td>0.860995</td>\n",
              "    </tr>\n",
              "    <tr>\n",
              "      <th>8311</th>\n",
              "      <td>usa</td>\n",
              "      <td>2009</td>\n",
              "      <td>274283000.0</td>\n",
              "      <td>306307565</td>\n",
              "      <td>United States</td>\n",
              "      <td>0.895450</td>\n",
              "    </tr>\n",
              "    <tr>\n",
              "      <th>8312</th>\n",
              "      <td>usa</td>\n",
              "      <td>2010</td>\n",
              "      <td>285118000.0</td>\n",
              "      <td>309011469</td>\n",
              "      <td>United States</td>\n",
              "      <td>0.922678</td>\n",
              "    </tr>\n",
              "    <tr>\n",
              "      <th>8313</th>\n",
              "      <td>usa</td>\n",
              "      <td>2011</td>\n",
              "      <td>297404000.0</td>\n",
              "      <td>311584051</td>\n",
              "      <td>United States</td>\n",
              "      <td>0.954490</td>\n",
              "    </tr>\n",
              "    <tr>\n",
              "      <th>8314</th>\n",
              "      <td>usa</td>\n",
              "      <td>2012</td>\n",
              "      <td>304838000.0</td>\n",
              "      <td>314043885</td>\n",
              "      <td>United States</td>\n",
              "      <td>0.970686</td>\n",
              "    </tr>\n",
              "    <tr>\n",
              "      <th>8315</th>\n",
              "      <td>usa</td>\n",
              "      <td>2013</td>\n",
              "      <td>310698000.0</td>\n",
              "      <td>316400539</td>\n",
              "      <td>United States</td>\n",
              "      <td>0.981977</td>\n",
              "    </tr>\n",
              "    <tr>\n",
              "      <th>8316</th>\n",
              "      <td>usa</td>\n",
              "      <td>2014</td>\n",
              "      <td>355500000.0</td>\n",
              "      <td>318673422</td>\n",
              "      <td>United States</td>\n",
              "      <td>1.115562</td>\n",
              "    </tr>\n",
              "    <tr>\n",
              "      <th>8317</th>\n",
              "      <td>usa</td>\n",
              "      <td>2015</td>\n",
              "      <td>382307000.0</td>\n",
              "      <td>320878312</td>\n",
              "      <td>United States</td>\n",
              "      <td>1.191439</td>\n",
              "    </tr>\n",
              "    <tr>\n",
              "      <th>8318</th>\n",
              "      <td>usa</td>\n",
              "      <td>2016</td>\n",
              "      <td>396000000.0</td>\n",
              "      <td>323015992</td>\n",
              "      <td>United States</td>\n",
              "      <td>1.225945</td>\n",
              "    </tr>\n",
              "    <tr>\n",
              "      <th>8319</th>\n",
              "      <td>usa</td>\n",
              "      <td>2017</td>\n",
              "      <td>400000000.0</td>\n",
              "      <td>325084758</td>\n",
              "      <td>United States</td>\n",
              "      <td>1.230448</td>\n",
              "    </tr>\n",
              "    <tr>\n",
              "      <th>8320</th>\n",
              "      <td>usa</td>\n",
              "      <td>2018</td>\n",
              "      <td>422000000.0</td>\n",
              "      <td>327096263</td>\n",
              "      <td>United States</td>\n",
              "      <td>1.290140</td>\n",
              "    </tr>\n",
              "  </tbody>\n",
              "</table>\n",
              "</div>"
            ],
            "text/plain": [
              "      geo  time  cell_phones_total  population_total        country  per_person\n",
              "8277  usa  1960                0.0         186720570  United States    0.000000\n",
              "8278  usa  1965                0.0         199733679  United States    0.000000\n",
              "8279  usa  1970                0.0         209513340  United States    0.000000\n",
              "8280  usa  1975                0.0         219081250  United States    0.000000\n",
              "8281  usa  1976                0.0         221086427  United States    0.000000\n",
              "8282  usa  1977                0.0         223135659  United States    0.000000\n",
              "8283  usa  1978                0.0         225223307  United States    0.000000\n",
              "8284  usa  1979                0.0         227339321  United States    0.000000\n",
              "8285  usa  1980                0.0         229476360  United States    0.000000\n",
              "8286  usa  1984            91600.0         238256849  United States    0.000384\n",
              "8287  usa  1985           340213.0         240499822  United States    0.001415\n",
              "8288  usa  1986           681825.0         242763137  United States    0.002809\n",
              "8289  usa  1987          1230855.0         245052780  United States    0.005023\n",
              "8290  usa  1988          2069441.0         247372258  United States    0.008366\n",
              "8291  usa  1989          3508944.0         249725809  United States    0.014051\n",
              "8292  usa  1990          5283055.0         252120309  United States    0.020954\n",
              "8293  usa  1991          7557148.0         254539371  United States    0.029690\n",
              "8294  usa  1992         11032753.0         256990608  United States    0.042931\n",
              "8295  usa  1993         16009461.0         259532130  United States    0.061686\n",
              "8296  usa  1994         24134421.0         262241204  United States    0.092031\n",
              "8297  usa  1995         33785661.0         265163741  United States    0.127414\n",
              "8298  usa  1996         44042992.0         268335008  United States    0.164134\n",
              "8299  usa  1997         55312293.0         271713634  United States    0.203568\n",
              "8300  usa  1998         69209321.0         275175309  United States    0.251510\n",
              "8301  usa  1999         86047003.0         278548148  United States    0.308912\n",
              "8302  usa  2000        109478031.0         281710914  United States    0.388618\n",
              "8303  usa  2001        128500000.0         284607992  United States    0.451498\n",
              "8304  usa  2002        141800000.0         287279312  United States    0.493596\n",
              "8305  usa  2003        160637000.0         289815567  United States    0.554273\n",
              "8306  usa  2004        184819000.0         292354663  United States    0.632174\n",
              "8307  usa  2005        203700000.0         294993509  United States    0.690524\n",
              "8308  usa  2006        229600000.0         297758977  United States    0.771093\n",
              "8309  usa  2007        249300000.0         300608425  United States    0.829318\n",
              "8310  usa  2008        261300000.0         303486022  United States    0.860995\n",
              "8311  usa  2009        274283000.0         306307565  United States    0.895450\n",
              "8312  usa  2010        285118000.0         309011469  United States    0.922678\n",
              "8313  usa  2011        297404000.0         311584051  United States    0.954490\n",
              "8314  usa  2012        304838000.0         314043885  United States    0.970686\n",
              "8315  usa  2013        310698000.0         316400539  United States    0.981977\n",
              "8316  usa  2014        355500000.0         318673422  United States    1.115562\n",
              "8317  usa  2015        382307000.0         320878312  United States    1.191439\n",
              "8318  usa  2016        396000000.0         323015992  United States    1.225945\n",
              "8319  usa  2017        400000000.0         325084758  United States    1.230448\n",
              "8320  usa  2018        422000000.0         327096263  United States    1.290140"
            ]
          },
          "metadata": {
            "tags": []
          },
          "execution_count": 13
        }
      ]
    },
    {
      "cell_type": "markdown",
      "metadata": {
        "id": "j2xDq7MAKRjg"
      },
      "source": [
        "### Part 4 - Process data\n",
        "\n",
        "Use the describe function, to describe your dataframe's numeric columns, and then its non-numeric columns.\n",
        "\n",
        "(You'll see the time period ranges from 1960 to 2017, and there are 195 unique countries represented.)"
      ]
    },
    {
      "cell_type": "code",
      "metadata": {
        "id": "7uTdL8eFKWTz",
        "colab": {
          "base_uri": "https://localhost:8080/",
          "height": 297
        },
        "outputId": "0a60536b-54d3-49d4-aedb-712861e6eef5"
      },
      "source": [
        "# Your Work Here\n",
        "geo_cell_pop.describe()"
      ],
      "execution_count": null,
      "outputs": [
        {
          "output_type": "execute_result",
          "data": {
            "text/html": [
              "<div>\n",
              "<style scoped>\n",
              "    .dataframe tbody tr th:only-of-type {\n",
              "        vertical-align: middle;\n",
              "    }\n",
              "\n",
              "    .dataframe tbody tr th {\n",
              "        vertical-align: top;\n",
              "    }\n",
              "\n",
              "    .dataframe thead th {\n",
              "        text-align: right;\n",
              "    }\n",
              "</style>\n",
              "<table border=\"1\" class=\"dataframe\">\n",
              "  <thead>\n",
              "    <tr style=\"text-align: right;\">\n",
              "      <th></th>\n",
              "      <th>time</th>\n",
              "      <th>cell_phones_total</th>\n",
              "      <th>population_total</th>\n",
              "      <th>per_person</th>\n",
              "    </tr>\n",
              "  </thead>\n",
              "  <tbody>\n",
              "    <tr>\n",
              "      <th>count</th>\n",
              "      <td>8786.000000</td>\n",
              "      <td>8.786000e+03</td>\n",
              "      <td>8.786000e+03</td>\n",
              "      <td>8786.000000</td>\n",
              "    </tr>\n",
              "    <tr>\n",
              "      <th>mean</th>\n",
              "      <td>1994.721603</td>\n",
              "      <td>9.701331e+06</td>\n",
              "      <td>3.002185e+07</td>\n",
              "      <td>0.298025</td>\n",
              "    </tr>\n",
              "    <tr>\n",
              "      <th>std</th>\n",
              "      <td>14.525220</td>\n",
              "      <td>5.968296e+07</td>\n",
              "      <td>1.172833e+08</td>\n",
              "      <td>0.468332</td>\n",
              "    </tr>\n",
              "    <tr>\n",
              "      <th>min</th>\n",
              "      <td>1960.000000</td>\n",
              "      <td>0.000000e+00</td>\n",
              "      <td>4.377000e+03</td>\n",
              "      <td>0.000000</td>\n",
              "    </tr>\n",
              "    <tr>\n",
              "      <th>25%</th>\n",
              "      <td>1983.000000</td>\n",
              "      <td>0.000000e+00</td>\n",
              "      <td>1.474928e+06</td>\n",
              "      <td>0.000000</td>\n",
              "    </tr>\n",
              "    <tr>\n",
              "      <th>50%</th>\n",
              "      <td>1995.000000</td>\n",
              "      <td>8.500000e+03</td>\n",
              "      <td>5.816554e+06</td>\n",
              "      <td>0.002346</td>\n",
              "    </tr>\n",
              "    <tr>\n",
              "      <th>75%</th>\n",
              "      <td>2007.000000</td>\n",
              "      <td>2.028511e+06</td>\n",
              "      <td>1.823047e+07</td>\n",
              "      <td>0.532728</td>\n",
              "    </tr>\n",
              "    <tr>\n",
              "      <th>max</th>\n",
              "      <td>2018.000000</td>\n",
              "      <td>1.649302e+09</td>\n",
              "      <td>1.427648e+09</td>\n",
              "      <td>2.699755</td>\n",
              "    </tr>\n",
              "  </tbody>\n",
              "</table>\n",
              "</div>"
            ],
            "text/plain": [
              "              time  cell_phones_total  population_total   per_person\n",
              "count  8786.000000       8.786000e+03      8.786000e+03  8786.000000\n",
              "mean   1994.721603       9.701331e+06      3.002185e+07     0.298025\n",
              "std      14.525220       5.968296e+07      1.172833e+08     0.468332\n",
              "min    1960.000000       0.000000e+00      4.377000e+03     0.000000\n",
              "25%    1983.000000       0.000000e+00      1.474928e+06     0.000000\n",
              "50%    1995.000000       8.500000e+03      5.816554e+06     0.002346\n",
              "75%    2007.000000       2.028511e+06      1.823047e+07     0.532728\n",
              "max    2018.000000       1.649302e+09      1.427648e+09     2.699755"
            ]
          },
          "metadata": {
            "tags": []
          },
          "execution_count": 14
        }
      ]
    },
    {
      "cell_type": "code",
      "metadata": {
        "id": "YBieLc1MbM2X",
        "colab": {
          "base_uri": "https://localhost:8080/",
          "height": 221
        },
        "outputId": "9fb5bc38-6311-4ada-9302-6acd5e586693"
      },
      "source": [
        "geo_cell_pop['geo'].value_counts()"
      ],
      "execution_count": null,
      "outputs": [
        {
          "output_type": "execute_result",
          "data": {
            "text/plain": [
              "idn    47\n",
              "omn    47\n",
              "rwa    47\n",
              "irq    47\n",
              "nzl    47\n",
              "       ..\n",
              "tls    17\n",
              "srb    15\n",
              "mne    15\n",
              "plw    14\n",
              "ssd     9\n",
              "Name: geo, Length: 195, dtype: int64"
            ]
          },
          "metadata": {
            "tags": []
          },
          "execution_count": 15
        }
      ]
    },
    {
      "cell_type": "markdown",
      "metadata": {
        "id": "KXEmo_HdKy_5"
      },
      "source": [
        "In 2017, what were the top 5 countries with the most cell phones total?\n",
        "\n",
        "Your list of countries should have these totals:\n",
        "\n",
        "| country | cell phones total |\n",
        "|:-------:|:-----------------:|\n",
        "|    ?    |     1,474,097,000 |\n",
        "|    ?    |     1,168,902,277 |\n",
        "|    ?    |       458,923,202 |\n",
        "|    ?    |       395,881,000 |\n",
        "|    ?    |       236,488,548 |\n"
      ]
    },
    {
      "cell_type": "code",
      "metadata": {
        "id": "NbCVBsBIK06K",
        "colab": {
          "base_uri": "https://localhost:8080/",
          "height": 204
        },
        "outputId": "e2723c2d-476f-4126-c90c-b3f6500ffe57"
      },
      "source": [
        "# Your Work Here\n",
        "\n",
        "geo_cell_pop.head()"
      ],
      "execution_count": null,
      "outputs": [
        {
          "output_type": "execute_result",
          "data": {
            "text/html": [
              "<div>\n",
              "<style scoped>\n",
              "    .dataframe tbody tr th:only-of-type {\n",
              "        vertical-align: middle;\n",
              "    }\n",
              "\n",
              "    .dataframe tbody tr th {\n",
              "        vertical-align: top;\n",
              "    }\n",
              "\n",
              "    .dataframe thead th {\n",
              "        text-align: right;\n",
              "    }\n",
              "</style>\n",
              "<table border=\"1\" class=\"dataframe\">\n",
              "  <thead>\n",
              "    <tr style=\"text-align: right;\">\n",
              "      <th></th>\n",
              "      <th>geo</th>\n",
              "      <th>time</th>\n",
              "      <th>cell_phones_total</th>\n",
              "      <th>population_total</th>\n",
              "      <th>country</th>\n",
              "      <th>per_person</th>\n",
              "    </tr>\n",
              "  </thead>\n",
              "  <tbody>\n",
              "    <tr>\n",
              "      <th>0</th>\n",
              "      <td>afg</td>\n",
              "      <td>1960</td>\n",
              "      <td>0.0</td>\n",
              "      <td>8996967</td>\n",
              "      <td>Afghanistan</td>\n",
              "      <td>0.0</td>\n",
              "    </tr>\n",
              "    <tr>\n",
              "      <th>1</th>\n",
              "      <td>afg</td>\n",
              "      <td>1965</td>\n",
              "      <td>0.0</td>\n",
              "      <td>9956318</td>\n",
              "      <td>Afghanistan</td>\n",
              "      <td>0.0</td>\n",
              "    </tr>\n",
              "    <tr>\n",
              "      <th>2</th>\n",
              "      <td>afg</td>\n",
              "      <td>1970</td>\n",
              "      <td>0.0</td>\n",
              "      <td>11173654</td>\n",
              "      <td>Afghanistan</td>\n",
              "      <td>0.0</td>\n",
              "    </tr>\n",
              "    <tr>\n",
              "      <th>3</th>\n",
              "      <td>afg</td>\n",
              "      <td>1975</td>\n",
              "      <td>0.0</td>\n",
              "      <td>12689164</td>\n",
              "      <td>Afghanistan</td>\n",
              "      <td>0.0</td>\n",
              "    </tr>\n",
              "    <tr>\n",
              "      <th>4</th>\n",
              "      <td>afg</td>\n",
              "      <td>1976</td>\n",
              "      <td>0.0</td>\n",
              "      <td>12943093</td>\n",
              "      <td>Afghanistan</td>\n",
              "      <td>0.0</td>\n",
              "    </tr>\n",
              "  </tbody>\n",
              "</table>\n",
              "</div>"
            ],
            "text/plain": [
              "   geo  time  cell_phones_total  population_total      country  per_person\n",
              "0  afg  1960                0.0           8996967  Afghanistan         0.0\n",
              "1  afg  1965                0.0           9956318  Afghanistan         0.0\n",
              "2  afg  1970                0.0          11173654  Afghanistan         0.0\n",
              "3  afg  1975                0.0          12689164  Afghanistan         0.0\n",
              "4  afg  1976                0.0          12943093  Afghanistan         0.0"
            ]
          },
          "metadata": {
            "tags": []
          },
          "execution_count": 16
        }
      ]
    },
    {
      "cell_type": "code",
      "metadata": {
        "id": "PZ0S0yawcvqo",
        "colab": {
          "base_uri": "https://localhost:8080/",
          "height": 238
        },
        "outputId": "c999b7b2-b1d4-4368-f4fb-dcfa163dd939"
      },
      "source": [
        "#sort in descending order\n",
        "geo_cell_pop.groupby(['country'])['cell_phones_total'].sum().sort_values(ascending=False)"
      ],
      "execution_count": null,
      "outputs": [
        {
          "output_type": "execute_result",
          "data": {
            "text/plain": [
              "country\n",
              "China               1.517315e+10\n",
              "India               1.029006e+10\n",
              "United States       5.457619e+09\n",
              "Indonesia           3.445319e+09\n",
              "Brazil              3.016082e+09\n",
              "                        ...     \n",
              "Kiribati            3.059040e+05\n",
              "Palau               1.677150e+05\n",
              "Nauru               5.600000e+04\n",
              "Marshall Islands    5.255300e+04\n",
              "Tuvalu              4.213000e+04\n",
              "Name: cell_phones_total, Length: 195, dtype: float64"
            ]
          },
          "metadata": {
            "tags": []
          },
          "execution_count": 17
        }
      ]
    },
    {
      "cell_type": "code",
      "metadata": {
        "id": "cqUHlzXQc9a3",
        "colab": {
          "base_uri": "https://localhost:8080/",
          "height": 204
        },
        "outputId": "9b56d84b-524f-4859-947b-ba8e01ea3ac0"
      },
      "source": [
        "#Stretch\n",
        "geo_cell_pop['geo'] = geo_cell_pop['geo'].str.upper()\n",
        "\n",
        "geo_cell_pop.head()"
      ],
      "execution_count": null,
      "outputs": [
        {
          "output_type": "execute_result",
          "data": {
            "text/html": [
              "<div>\n",
              "<style scoped>\n",
              "    .dataframe tbody tr th:only-of-type {\n",
              "        vertical-align: middle;\n",
              "    }\n",
              "\n",
              "    .dataframe tbody tr th {\n",
              "        vertical-align: top;\n",
              "    }\n",
              "\n",
              "    .dataframe thead th {\n",
              "        text-align: right;\n",
              "    }\n",
              "</style>\n",
              "<table border=\"1\" class=\"dataframe\">\n",
              "  <thead>\n",
              "    <tr style=\"text-align: right;\">\n",
              "      <th></th>\n",
              "      <th>geo</th>\n",
              "      <th>time</th>\n",
              "      <th>cell_phones_total</th>\n",
              "      <th>population_total</th>\n",
              "      <th>country</th>\n",
              "      <th>per_person</th>\n",
              "    </tr>\n",
              "  </thead>\n",
              "  <tbody>\n",
              "    <tr>\n",
              "      <th>0</th>\n",
              "      <td>AFG</td>\n",
              "      <td>1960</td>\n",
              "      <td>0.0</td>\n",
              "      <td>8996967</td>\n",
              "      <td>Afghanistan</td>\n",
              "      <td>0.0</td>\n",
              "    </tr>\n",
              "    <tr>\n",
              "      <th>1</th>\n",
              "      <td>AFG</td>\n",
              "      <td>1965</td>\n",
              "      <td>0.0</td>\n",
              "      <td>9956318</td>\n",
              "      <td>Afghanistan</td>\n",
              "      <td>0.0</td>\n",
              "    </tr>\n",
              "    <tr>\n",
              "      <th>2</th>\n",
              "      <td>AFG</td>\n",
              "      <td>1970</td>\n",
              "      <td>0.0</td>\n",
              "      <td>11173654</td>\n",
              "      <td>Afghanistan</td>\n",
              "      <td>0.0</td>\n",
              "    </tr>\n",
              "    <tr>\n",
              "      <th>3</th>\n",
              "      <td>AFG</td>\n",
              "      <td>1975</td>\n",
              "      <td>0.0</td>\n",
              "      <td>12689164</td>\n",
              "      <td>Afghanistan</td>\n",
              "      <td>0.0</td>\n",
              "    </tr>\n",
              "    <tr>\n",
              "      <th>4</th>\n",
              "      <td>AFG</td>\n",
              "      <td>1976</td>\n",
              "      <td>0.0</td>\n",
              "      <td>12943093</td>\n",
              "      <td>Afghanistan</td>\n",
              "      <td>0.0</td>\n",
              "    </tr>\n",
              "  </tbody>\n",
              "</table>\n",
              "</div>"
            ],
            "text/plain": [
              "   geo  time  cell_phones_total  population_total      country  per_person\n",
              "0  AFG  1960                0.0           8996967  Afghanistan         0.0\n",
              "1  AFG  1965                0.0           9956318  Afghanistan         0.0\n",
              "2  AFG  1970                0.0          11173654  Afghanistan         0.0\n",
              "3  AFG  1975                0.0          12689164  Afghanistan         0.0\n",
              "4  AFG  1976                0.0          12943093  Afghanistan         0.0"
            ]
          },
          "metadata": {
            "tags": []
          },
          "execution_count": 19
        }
      ]
    },
    {
      "cell_type": "markdown",
      "metadata": {
        "id": "RcBnaSW_LYSk"
      },
      "source": [
        "## Data Storytelling\n",
        "\n",
        "In this part of the sprint challenge you'll work with a dataset from **FiveThirtyEight's article, [Every Guest Jon Stewart Ever Had On ‘The Daily Show’](https://fivethirtyeight.com/features/every-guest-jon-stewart-ever-had-on-the-daily-show/)**!"
      ]
    },
    {
      "cell_type": "markdown",
      "metadata": {
        "id": "t0vUeBgBLcby"
      },
      "source": [
        "### Part 0 — Run this starter code\n",
        "\n",
        "You don't need to add or change anything here. Just run this cell and it loads the data for you, into a dataframe named `df`.\n",
        "\n",
        "(You can explore the data if you want, but it's not required to pass the Sprint Challenge.)"
      ]
    },
    {
      "cell_type": "code",
      "metadata": {
        "id": "pc7YmWvlLas5",
        "colab": {
          "base_uri": "https://localhost:8080/",
          "height": 286
        },
        "outputId": "ab97033d-3718-4278-e15f-b248aeb65a3d"
      },
      "source": [
        "%matplotlib inline\n",
        "import matplotlib.pyplot as plt\n",
        "import numpy as np\n",
        "import pandas as pd\n",
        "import seaborn as sns\n",
        "\n",
        "cable_news_url = 'https://raw.githubusercontent.com/fivethirtyeight/data/master/media-mentions-2020/cable_weekly.csv'\n",
        "online_news_url = 'https://raw.githubusercontent.com/fivethirtyeight/data/master/media-mentions-2020/online_weekly.csv'\n",
        "\n",
        "cable = pd.read_csv(cable_news_url)\n",
        "online = pd.read_csv(online_news_url)\n",
        "\n",
        "merged = pd.merge(cable[['date', 'name', 'pct_of_all_candidate_clips']], online[['date', 'name', 'pct_of_all_candidate_stories']])\n",
        "merged['date'] = pd.to_datetime(merged['date'], infer_datetime_format=True)\n",
        "merged = merged.set_index('date')\n",
        "\n",
        "unique_dates = list(set(merged.index.to_list()))\n",
        "\n",
        "import datetime\n",
        "\n",
        "joe_biden_cable_multiple = []\n",
        "joe_biden_online_multiple = []\n",
        "\n",
        "for date in unique_dates:\n",
        "  that_day = merged.loc[datetime.date(year=date.year, month=date.month, day=date.day)]\n",
        "\n",
        "  joe_biden_cable_that_day = that_day[that_day['name']==\"Joe Biden\"]['pct_of_all_candidate_clips']\n",
        "  not_joe_biden_cable_max = that_day[that_day['name']!=\"Joe Biden\"]['pct_of_all_candidate_clips'].max()\n",
        "  joe_biden_cable_multiple_of_max = joe_biden_cable_that_day / not_joe_biden_cable_max\n",
        "\n",
        "  joe_biden_online_that_day = that_day[that_day['name']==\"Joe Biden\"]['pct_of_all_candidate_stories']\n",
        "  not_joe_biden_online_max = that_day[that_day['name']!=\"Joe Biden\"]['pct_of_all_candidate_stories'].max()\n",
        "  joe_biden_online_multiple_of_max = joe_biden_online_that_day / not_joe_biden_online_max\n",
        "\n",
        "\n",
        "  joe_biden_cable_multiple.append(joe_biden_cable_multiple_of_max.values[0])\n",
        "  joe_biden_online_multiple.append(joe_biden_online_multiple_of_max.values[0])\n",
        "\n",
        "df = pd.DataFrame({'date': unique_dates, 'biden_cable_multiple':joe_biden_cable_multiple, 'biden_online_multiple': joe_biden_online_multiple})\n",
        "df = df.set_index('date')\n",
        "df = df.sort_index()\n",
        "\n",
        "data_for_graph = df.loc[datetime.date(2019, 4, 15):]\n",
        "print(data_for_graph.shape)\n",
        "data_for_graph.head()"
      ],
      "execution_count": null,
      "outputs": [
        {
          "output_type": "stream",
          "text": [
            "/usr/local/lib/python3.6/dist-packages/statsmodels/tools/_testing.py:19: FutureWarning: pandas.util.testing is deprecated. Use the functions in the public API at pandas.testing instead.\n",
            "  import pandas.util.testing as tm\n"
          ],
          "name": "stderr"
        },
        {
          "output_type": "stream",
          "text": [
            "(27, 2)\n"
          ],
          "name": "stdout"
        },
        {
          "output_type": "execute_result",
          "data": {
            "text/html": [
              "<div>\n",
              "<style scoped>\n",
              "    .dataframe tbody tr th:only-of-type {\n",
              "        vertical-align: middle;\n",
              "    }\n",
              "\n",
              "    .dataframe tbody tr th {\n",
              "        vertical-align: top;\n",
              "    }\n",
              "\n",
              "    .dataframe thead th {\n",
              "        text-align: right;\n",
              "    }\n",
              "</style>\n",
              "<table border=\"1\" class=\"dataframe\">\n",
              "  <thead>\n",
              "    <tr style=\"text-align: right;\">\n",
              "      <th></th>\n",
              "      <th>biden_cable_multiple</th>\n",
              "      <th>biden_online_multiple</th>\n",
              "    </tr>\n",
              "    <tr>\n",
              "      <th>date</th>\n",
              "      <th></th>\n",
              "      <th></th>\n",
              "    </tr>\n",
              "  </thead>\n",
              "  <tbody>\n",
              "    <tr>\n",
              "      <th>2019-04-21</th>\n",
              "      <td>3.087352</td>\n",
              "      <td>1.107492</td>\n",
              "    </tr>\n",
              "    <tr>\n",
              "      <th>2019-04-28</th>\n",
              "      <td>3.707641</td>\n",
              "      <td>1.295820</td>\n",
              "    </tr>\n",
              "    <tr>\n",
              "      <th>2019-05-05</th>\n",
              "      <td>2.805169</td>\n",
              "      <td>1.306122</td>\n",
              "    </tr>\n",
              "    <tr>\n",
              "      <th>2019-05-12</th>\n",
              "      <td>3.235849</td>\n",
              "      <td>1.045386</td>\n",
              "    </tr>\n",
              "    <tr>\n",
              "      <th>2019-05-19</th>\n",
              "      <td>2.494624</td>\n",
              "      <td>1.119588</td>\n",
              "    </tr>\n",
              "  </tbody>\n",
              "</table>\n",
              "</div>"
            ],
            "text/plain": [
              "            biden_cable_multiple  biden_online_multiple\n",
              "date                                                   \n",
              "2019-04-21              3.087352               1.107492\n",
              "2019-04-28              3.707641               1.295820\n",
              "2019-05-05              2.805169               1.306122\n",
              "2019-05-12              3.235849               1.045386\n",
              "2019-05-19              2.494624               1.119588"
            ]
          },
          "metadata": {
            "tags": []
          },
          "execution_count": 20
        }
      ]
    },
    {
      "cell_type": "markdown",
      "metadata": {
        "id": "UthoeNABLwau"
      },
      "source": [
        "### Part 1 — Recreate this explanatory visualization:\n",
        "\n"
      ]
    },
    {
      "cell_type": "code",
      "metadata": {
        "id": "oy9dt9l6Lz18",
        "colab": {
          "base_uri": "https://localhost:8080/",
          "height": 447
        },
        "outputId": "9fa5d581-f8fb-44a8-d4dc-a40a47443f4c"
      },
      "source": [
        "from IPython.display import display, Image\n",
        "png = 'https://fivethirtyeight.com/wp-content/uploads/2019/10/Mehta-Media1028-1028-1.png'\n",
        "example = Image(png, width=500)\n",
        "display(example)"
      ],
      "execution_count": null,
      "outputs": [
        {
          "output_type": "display_data",
          "data": {
            "image/png": "[encoded data removed]",
            "text/plain": [
              "<IPython.core.display.Image object>"
            ]
          },
          "metadata": {
            "tags": [],
            "image/png": {
              "width": 500
            }
          }
        }
      ]
    },
    {
      "cell_type": "markdown",
      "metadata": {
        "id": "WEHUhxlTL2w2"
      },
      "source": [
        "**Hints:**\n",
        "- You can choose any Python visualization library you want. I've verified the plot can be reproduced with matplotlib, pandas plot, or seaborn. I assume other libraries like altair or plotly would work too.\n",
        "\n",
        "**Expectations:** Your plot should include:\n",
        "- 2 lines visualizing the Cable news vs Online news lines The shapes of the lines should look roughly identical to 538's example. Each line should be a different color. (But you don't need to use the _same_ colors as 538.)\n",
        "- Legend **or** labels for the lines. (But **you don't need each label positioned next to its line or colored like 538.**)\n",
        "- Title in the upper left: _\"Biden's Ukraine-related media bump is fading\"_ with more visual emphasis than the subtitle. (Bolder and/or larger font.)\n",
        "- Subtitle underneath the title: _\"Biden's share of media mentions on each medium relative ot the next most-mentioned candidate each week\"_"
      ]
    },
    {
      "cell_type": "code",
      "metadata": {
        "id": "J-T3IU__L0ih",
        "colab": {
          "base_uri": "https://localhost:8080/",
          "height": 855
        },
        "outputId": "ace9347b-1f78-444a-fbaa-920393c96cc3"
      },
      "source": [
        "# Your Work Here\n",
        "#isolate the right timeframe\n",
        "time_slice = df.loc['May 2019':'November 2019']\n",
        "time_slice"
      ],
      "execution_count": null,
      "outputs": [
        {
          "output_type": "execute_result",
          "data": {
            "text/html": [
              "<div>\n",
              "<style scoped>\n",
              "    .dataframe tbody tr th:only-of-type {\n",
              "        vertical-align: middle;\n",
              "    }\n",
              "\n",
              "    .dataframe tbody tr th {\n",
              "        vertical-align: top;\n",
              "    }\n",
              "\n",
              "    .dataframe thead th {\n",
              "        text-align: right;\n",
              "    }\n",
              "</style>\n",
              "<table border=\"1\" class=\"dataframe\">\n",
              "  <thead>\n",
              "    <tr style=\"text-align: right;\">\n",
              "      <th></th>\n",
              "      <th>biden_cable_multiple</th>\n",
              "      <th>biden_online_multiple</th>\n",
              "    </tr>\n",
              "    <tr>\n",
              "      <th>date</th>\n",
              "      <th></th>\n",
              "      <th></th>\n",
              "    </tr>\n",
              "  </thead>\n",
              "  <tbody>\n",
              "    <tr>\n",
              "      <th>2019-05-05</th>\n",
              "      <td>2.805169</td>\n",
              "      <td>1.306122</td>\n",
              "    </tr>\n",
              "    <tr>\n",
              "      <th>2019-05-12</th>\n",
              "      <td>3.235849</td>\n",
              "      <td>1.045386</td>\n",
              "    </tr>\n",
              "    <tr>\n",
              "      <th>2019-05-19</th>\n",
              "      <td>2.494624</td>\n",
              "      <td>1.119588</td>\n",
              "    </tr>\n",
              "    <tr>\n",
              "      <th>2019-05-26</th>\n",
              "      <td>3.684211</td>\n",
              "      <td>1.566434</td>\n",
              "    </tr>\n",
              "    <tr>\n",
              "      <th>2019-06-02</th>\n",
              "      <td>4.120773</td>\n",
              "      <td>1.268581</td>\n",
              "    </tr>\n",
              "    <tr>\n",
              "      <th>2019-06-09</th>\n",
              "      <td>2.955257</td>\n",
              "      <td>1.340233</td>\n",
              "    </tr>\n",
              "    <tr>\n",
              "      <th>2019-06-16</th>\n",
              "      <td>3.574713</td>\n",
              "      <td>1.687805</td>\n",
              "    </tr>\n",
              "    <tr>\n",
              "      <th>2019-06-23</th>\n",
              "      <td>2.258354</td>\n",
              "      <td>1.072789</td>\n",
              "    </tr>\n",
              "    <tr>\n",
              "      <th>2019-06-30</th>\n",
              "      <td>1.168615</td>\n",
              "      <td>1.034346</td>\n",
              "    </tr>\n",
              "    <tr>\n",
              "      <th>2019-07-07</th>\n",
              "      <td>2.218236</td>\n",
              "      <td>1.296041</td>\n",
              "    </tr>\n",
              "    <tr>\n",
              "      <th>2019-07-14</th>\n",
              "      <td>1.565041</td>\n",
              "      <td>0.936975</td>\n",
              "    </tr>\n",
              "    <tr>\n",
              "      <th>2019-07-21</th>\n",
              "      <td>1.855072</td>\n",
              "      <td>0.938650</td>\n",
              "    </tr>\n",
              "    <tr>\n",
              "      <th>2019-07-28</th>\n",
              "      <td>1.988069</td>\n",
              "      <td>1.033973</td>\n",
              "    </tr>\n",
              "    <tr>\n",
              "      <th>2019-08-04</th>\n",
              "      <td>1.868519</td>\n",
              "      <td>1.173984</td>\n",
              "    </tr>\n",
              "    <tr>\n",
              "      <th>2019-08-11</th>\n",
              "      <td>1.592424</td>\n",
              "      <td>0.913628</td>\n",
              "    </tr>\n",
              "    <tr>\n",
              "      <th>2019-08-18</th>\n",
              "      <td>1.889323</td>\n",
              "      <td>0.847244</td>\n",
              "    </tr>\n",
              "    <tr>\n",
              "      <th>2019-08-25</th>\n",
              "      <td>2.046753</td>\n",
              "      <td>1.095238</td>\n",
              "    </tr>\n",
              "    <tr>\n",
              "      <th>2019-09-01</th>\n",
              "      <td>2.231672</td>\n",
              "      <td>1.068441</td>\n",
              "    </tr>\n",
              "    <tr>\n",
              "      <th>2019-09-08</th>\n",
              "      <td>1.669750</td>\n",
              "      <td>1.055731</td>\n",
              "    </tr>\n",
              "    <tr>\n",
              "      <th>2019-09-15</th>\n",
              "      <td>2.601589</td>\n",
              "      <td>1.067506</td>\n",
              "    </tr>\n",
              "    <tr>\n",
              "      <th>2019-09-22</th>\n",
              "      <td>4.558233</td>\n",
              "      <td>4.649776</td>\n",
              "    </tr>\n",
              "    <tr>\n",
              "      <th>2019-09-29</th>\n",
              "      <td>4.980180</td>\n",
              "      <td>3.402359</td>\n",
              "    </tr>\n",
              "    <tr>\n",
              "      <th>2019-10-06</th>\n",
              "      <td>3.260229</td>\n",
              "      <td>2.545723</td>\n",
              "    </tr>\n",
              "    <tr>\n",
              "      <th>2019-10-13</th>\n",
              "      <td>1.676190</td>\n",
              "      <td>1.406303</td>\n",
              "    </tr>\n",
              "    <tr>\n",
              "      <th>2019-10-20</th>\n",
              "      <td>1.726508</td>\n",
              "      <td>1.552770</td>\n",
              "    </tr>\n",
              "  </tbody>\n",
              "</table>\n",
              "</div>"
            ],
            "text/plain": [
              "            biden_cable_multiple  biden_online_multiple\n",
              "date                                                   \n",
              "2019-05-05              2.805169               1.306122\n",
              "2019-05-12              3.235849               1.045386\n",
              "2019-05-19              2.494624               1.119588\n",
              "2019-05-26              3.684211               1.566434\n",
              "2019-06-02              4.120773               1.268581\n",
              "2019-06-09              2.955257               1.340233\n",
              "2019-06-16              3.574713               1.687805\n",
              "2019-06-23              2.258354               1.072789\n",
              "2019-06-30              1.168615               1.034346\n",
              "2019-07-07              2.218236               1.296041\n",
              "2019-07-14              1.565041               0.936975\n",
              "2019-07-21              1.855072               0.938650\n",
              "2019-07-28              1.988069               1.033973\n",
              "2019-08-04              1.868519               1.173984\n",
              "2019-08-11              1.592424               0.913628\n",
              "2019-08-18              1.889323               0.847244\n",
              "2019-08-25              2.046753               1.095238\n",
              "2019-09-01              2.231672               1.068441\n",
              "2019-09-08              1.669750               1.055731\n",
              "2019-09-15              2.601589               1.067506\n",
              "2019-09-22              4.558233               4.649776\n",
              "2019-09-29              4.980180               3.402359\n",
              "2019-10-06              3.260229               2.545723\n",
              "2019-10-13              1.676190               1.406303\n",
              "2019-10-20              1.726508               1.552770"
            ]
          },
          "metadata": {
            "tags": []
          },
          "execution_count": 22
        }
      ]
    },
    {
      "cell_type": "code",
      "metadata": {
        "id": "X89SWPGZdhDm",
        "colab": {
          "base_uri": "https://localhost:8080/",
          "height": 320
        },
        "outputId": "3f207d14-0317-4dd5-f024-45fc3fd09986"
      },
      "source": [
        "#line plot with formatting/style\n",
        "time_slice.plot();\n",
        "plt.suptitle(\"Biden's Ukraine-related media bump is fading\", fontdict={'fontsize':'16','fontweight':\"bold\"});\n",
        "plt.title(\"Biden's share of media mentions on each medium relative ot the next most-mentioned candidate each week\", fontdict={'fontsize':'10'}, loc='left');\n",
        "#set current axes locations\n",
        "ax = plt.gca()\n",
        "#custom labels\n",
        "ax.set_yticklabels((\"0\", \"Even\", \"2\", \"3\", \"4\", \"5X\")) \n",
        "ax.set_facecolor('w')\n",
        "#format the lines\n",
        "plt.grid(color='black', which='major', linestyle= '-', linewidth=0.3)\n",
        "plt.style.use('bmh')\n",
        "plt.show()"
      ],
      "execution_count": null,
      "outputs": [
        {
          "output_type": "display_data",
          "data": {
            "image/png": "[encoded data removed]",
            "text/plain": [
              "<Figure size 432x288 with 1 Axes>"
            ]
          },
          "metadata": {
            "tags": [],
            "needs_background": "light"
          }
        }
      ]
    },
    {
      "cell_type": "code",
      "metadata": {
        "id": "U458S_4NdmOu",
        "colab": {
          "base_uri": "https://localhost:8080/",
          "height": 54
        },
        "outputId": "596ff937-fba9-4ed7-8c9d-8be188540ac5"
      },
      "source": [
        "#find style options\n",
        "print(plt.style.available)"
      ],
      "execution_count": null,
      "outputs": [
        {
          "output_type": "stream",
          "text": [
            "['Solarize_Light2', '_classic_test_patch', 'bmh', 'classic', 'dark_background', 'fast', 'fivethirtyeight', 'ggplot', 'grayscale', 'seaborn', 'seaborn-bright', 'seaborn-colorblind', 'seaborn-dark', 'seaborn-dark-palette', 'seaborn-darkgrid', 'seaborn-deep', 'seaborn-muted', 'seaborn-notebook', 'seaborn-paper', 'seaborn-pastel', 'seaborn-poster', 'seaborn-talk', 'seaborn-ticks', 'seaborn-white', 'seaborn-whitegrid', 'tableau-colorblind10']\n"
          ],
          "name": "stdout"
        }
      ]
    },
    {
      "cell_type": "markdown",
      "metadata": {
        "id": "svbK28PWNCic"
      },
      "source": [
        "## How to get a 3 on this Sprint Challenge:\n",
        "\n",
        "Once you have completed the above making a solid attempt at each section, if you still have time remaining, you can go back and do any of the following to get a score of 3 on the above sections. Remember that everything in this section is **optional** and that we will average your scores between the different sections, so get the easy points first!\n",
        "\n",
        "Complete any of the following **within** their corresponding sections in the Sprint Challenge (go back up and add these thigns):\n",
        "\n",
        "### Data Wrangling Section 1\n",
        "\n",
        "Filter the `cell_phones` dataframe to only include information about the USA and China and then remake the scatterplot. \n",
        "\n",
        "### Data Wrangling Section 2\n",
        "\n",
        "Explain why we are using an \"inner\" join when we merge these dataframes. \n",
        "\n",
        "### Data Wrangling Section 3\n",
        "\n",
        "Modify the geo column to make the geo codes uppercase instead of lowercase.\n",
        "\n",
        "### Data Wrangling Section 4\n",
        "\n",
        "2017 was the first year that China had more cell phones than people.\n",
        "\n",
        "What was the first year that the USA had more cell phones than people?\n",
        "\n",
        "### Data Storytelling \n",
        "\n",
        "Keep on working on your graph to make it look particularly like the 538 graph by manipulating the graph's background color, the line colors, the x and y axis tick marks/labels, etc. \n",
        "\n",
        "If you have already completed everything else, take this as far as you can within the time limit.\n"
      ]
    },
    {
      "cell_type": "code",
      "metadata": {
        "id": "yrMJvHMGehx8",
        "colab": {
          "base_uri": "https://localhost:8080/",
          "height": 1000
        },
        "outputId": "841001e4-f421-4988-84a7-acbc9d30d583"
      },
      "source": [
        "#stretch section 1\n",
        "slice1 = cell_phones[cell_phones['geo']=='usa']\n",
        "slice2 = cell_phones[cell_phones['geo']=='chn']\n",
        "print(slice1)\n",
        "print(slice2)"
      ],
      "execution_count": null,
      "outputs": [
        {
          "output_type": "stream",
          "text": [
            "      geo  time  cell_phones_total\n",
            "8861  usa  1960                0.0\n",
            "8862  usa  1965                0.0\n",
            "8863  usa  1970                0.0\n",
            "8864  usa  1975                0.0\n",
            "8865  usa  1976                0.0\n",
            "8866  usa  1977                0.0\n",
            "8867  usa  1978                0.0\n",
            "8868  usa  1979                0.0\n",
            "8869  usa  1980                0.0\n",
            "8870  usa  1984            91600.0\n",
            "8871  usa  1985           340213.0\n",
            "8872  usa  1986           681825.0\n",
            "8873  usa  1987          1230855.0\n",
            "8874  usa  1988          2069441.0\n",
            "8875  usa  1989          3508944.0\n",
            "8876  usa  1990          5283055.0\n",
            "8877  usa  1991          7557148.0\n",
            "8878  usa  1992         11032753.0\n",
            "8879  usa  1993         16009461.0\n",
            "8880  usa  1994         24134421.0\n",
            "8881  usa  1995         33785661.0\n",
            "8882  usa  1996         44042992.0\n",
            "8883  usa  1997         55312293.0\n",
            "8884  usa  1998         69209321.0\n",
            "8885  usa  1999         86047003.0\n",
            "8886  usa  2000        109478031.0\n",
            "8887  usa  2001        128500000.0\n",
            "8888  usa  2002        141800000.0\n",
            "8889  usa  2003        160637000.0\n",
            "8890  usa  2004        184819000.0\n",
            "8891  usa  2005        203700000.0\n",
            "8892  usa  2006        229600000.0\n",
            "8893  usa  2007        249300000.0\n",
            "8894  usa  2008        261300000.0\n",
            "8895  usa  2009        274283000.0\n",
            "8896  usa  2010        285118000.0\n",
            "8897  usa  2011        297404000.0\n",
            "8898  usa  2012        304838000.0\n",
            "8899  usa  2013        310698000.0\n",
            "8900  usa  2014        355500000.0\n",
            "8901  usa  2015        382307000.0\n",
            "8902  usa  2016        396000000.0\n",
            "8903  usa  2017        400000000.0\n",
            "8904  usa  2018        422000000.0\n",
            "      geo  time  cell_phones_total\n",
            "1599  chn  1960       0.000000e+00\n",
            "1600  chn  1965       0.000000e+00\n",
            "1601  chn  1970       0.000000e+00\n",
            "1602  chn  1975       0.000000e+00\n",
            "1603  chn  1976       0.000000e+00\n",
            "1604  chn  1977       0.000000e+00\n",
            "1605  chn  1978       0.000000e+00\n",
            "1606  chn  1979       0.000000e+00\n",
            "1607  chn  1980       0.000000e+00\n",
            "1608  chn  1981       0.000000e+00\n",
            "1609  chn  1982       0.000000e+00\n",
            "1610  chn  1983       0.000000e+00\n",
            "1611  chn  1984       0.000000e+00\n",
            "1612  chn  1985       0.000000e+00\n",
            "1613  chn  1986       0.000000e+00\n",
            "1614  chn  1987       7.000000e+02\n",
            "1615  chn  1988       3.227000e+03\n",
            "1616  chn  1989       9.805000e+03\n",
            "1617  chn  1990       1.831900e+04\n",
            "1618  chn  1991       4.754400e+04\n",
            "1619  chn  1992       1.769430e+05\n",
            "1620  chn  1993       6.380000e+05\n",
            "1621  chn  1994       1.568000e+06\n",
            "1622  chn  1995       3.629000e+06\n",
            "1623  chn  1996       6.853000e+06\n",
            "1624  chn  1997       1.323300e+07\n",
            "1625  chn  1998       2.386300e+07\n",
            "1626  chn  1999       4.329600e+07\n",
            "1627  chn  2000       8.526000e+07\n",
            "1628  chn  2001       1.448200e+08\n",
            "1629  chn  2002       2.060050e+08\n",
            "1630  chn  2003       2.699530e+08\n",
            "1631  chn  2004       3.348240e+08\n",
            "1632  chn  2005       3.934060e+08\n",
            "1633  chn  2006       4.610580e+08\n",
            "1634  chn  2007       5.473060e+08\n",
            "1635  chn  2008       6.412450e+08\n",
            "1636  chn  2009       7.472140e+08\n",
            "1637  chn  2010       8.590030e+08\n",
            "1638  chn  2011       9.862530e+08\n",
            "1639  chn  2012       1.112155e+09\n",
            "1640  chn  2013       1.229113e+09\n",
            "1641  chn  2014       1.286093e+09\n",
            "1642  chn  2015       1.291984e+09\n",
            "1643  chn  2016       1.364934e+09\n",
            "1644  chn  2017       1.469882e+09\n",
            "1645  chn  2018       1.649302e+09\n"
          ],
          "name": "stdout"
        }
      ]
    },
    {
      "cell_type": "code",
      "metadata": {
        "id": "cUkthAs_d66j",
        "colab": {
          "base_uri": "https://localhost:8080/",
          "height": 824
        },
        "outputId": "266d6ebc-42c1-4770-e155-c49419b943d4"
      },
      "source": [
        "#stretch\n",
        "china_usa = pd.concat([slice1, slice2])\n",
        "\n",
        "china_usa.head(25)\n"
      ],
      "execution_count": null,
      "outputs": [
        {
          "output_type": "execute_result",
          "data": {
            "text/html": [
              "<div>\n",
              "<style scoped>\n",
              "    .dataframe tbody tr th:only-of-type {\n",
              "        vertical-align: middle;\n",
              "    }\n",
              "\n",
              "    .dataframe tbody tr th {\n",
              "        vertical-align: top;\n",
              "    }\n",
              "\n",
              "    .dataframe thead th {\n",
              "        text-align: right;\n",
              "    }\n",
              "</style>\n",
              "<table border=\"1\" class=\"dataframe\">\n",
              "  <thead>\n",
              "    <tr style=\"text-align: right;\">\n",
              "      <th></th>\n",
              "      <th>geo</th>\n",
              "      <th>time</th>\n",
              "      <th>cell_phones_total</th>\n",
              "    </tr>\n",
              "  </thead>\n",
              "  <tbody>\n",
              "    <tr>\n",
              "      <th>8861</th>\n",
              "      <td>usa</td>\n",
              "      <td>1960</td>\n",
              "      <td>0.0</td>\n",
              "    </tr>\n",
              "    <tr>\n",
              "      <th>8862</th>\n",
              "      <td>usa</td>\n",
              "      <td>1965</td>\n",
              "      <td>0.0</td>\n",
              "    </tr>\n",
              "    <tr>\n",
              "      <th>8863</th>\n",
              "      <td>usa</td>\n",
              "      <td>1970</td>\n",
              "      <td>0.0</td>\n",
              "    </tr>\n",
              "    <tr>\n",
              "      <th>8864</th>\n",
              "      <td>usa</td>\n",
              "      <td>1975</td>\n",
              "      <td>0.0</td>\n",
              "    </tr>\n",
              "    <tr>\n",
              "      <th>8865</th>\n",
              "      <td>usa</td>\n",
              "      <td>1976</td>\n",
              "      <td>0.0</td>\n",
              "    </tr>\n",
              "    <tr>\n",
              "      <th>8866</th>\n",
              "      <td>usa</td>\n",
              "      <td>1977</td>\n",
              "      <td>0.0</td>\n",
              "    </tr>\n",
              "    <tr>\n",
              "      <th>8867</th>\n",
              "      <td>usa</td>\n",
              "      <td>1978</td>\n",
              "      <td>0.0</td>\n",
              "    </tr>\n",
              "    <tr>\n",
              "      <th>8868</th>\n",
              "      <td>usa</td>\n",
              "      <td>1979</td>\n",
              "      <td>0.0</td>\n",
              "    </tr>\n",
              "    <tr>\n",
              "      <th>8869</th>\n",
              "      <td>usa</td>\n",
              "      <td>1980</td>\n",
              "      <td>0.0</td>\n",
              "    </tr>\n",
              "    <tr>\n",
              "      <th>8870</th>\n",
              "      <td>usa</td>\n",
              "      <td>1984</td>\n",
              "      <td>91600.0</td>\n",
              "    </tr>\n",
              "    <tr>\n",
              "      <th>8871</th>\n",
              "      <td>usa</td>\n",
              "      <td>1985</td>\n",
              "      <td>340213.0</td>\n",
              "    </tr>\n",
              "    <tr>\n",
              "      <th>8872</th>\n",
              "      <td>usa</td>\n",
              "      <td>1986</td>\n",
              "      <td>681825.0</td>\n",
              "    </tr>\n",
              "    <tr>\n",
              "      <th>8873</th>\n",
              "      <td>usa</td>\n",
              "      <td>1987</td>\n",
              "      <td>1230855.0</td>\n",
              "    </tr>\n",
              "    <tr>\n",
              "      <th>8874</th>\n",
              "      <td>usa</td>\n",
              "      <td>1988</td>\n",
              "      <td>2069441.0</td>\n",
              "    </tr>\n",
              "    <tr>\n",
              "      <th>8875</th>\n",
              "      <td>usa</td>\n",
              "      <td>1989</td>\n",
              "      <td>3508944.0</td>\n",
              "    </tr>\n",
              "    <tr>\n",
              "      <th>8876</th>\n",
              "      <td>usa</td>\n",
              "      <td>1990</td>\n",
              "      <td>5283055.0</td>\n",
              "    </tr>\n",
              "    <tr>\n",
              "      <th>8877</th>\n",
              "      <td>usa</td>\n",
              "      <td>1991</td>\n",
              "      <td>7557148.0</td>\n",
              "    </tr>\n",
              "    <tr>\n",
              "      <th>8878</th>\n",
              "      <td>usa</td>\n",
              "      <td>1992</td>\n",
              "      <td>11032753.0</td>\n",
              "    </tr>\n",
              "    <tr>\n",
              "      <th>8879</th>\n",
              "      <td>usa</td>\n",
              "      <td>1993</td>\n",
              "      <td>16009461.0</td>\n",
              "    </tr>\n",
              "    <tr>\n",
              "      <th>8880</th>\n",
              "      <td>usa</td>\n",
              "      <td>1994</td>\n",
              "      <td>24134421.0</td>\n",
              "    </tr>\n",
              "    <tr>\n",
              "      <th>8881</th>\n",
              "      <td>usa</td>\n",
              "      <td>1995</td>\n",
              "      <td>33785661.0</td>\n",
              "    </tr>\n",
              "    <tr>\n",
              "      <th>8882</th>\n",
              "      <td>usa</td>\n",
              "      <td>1996</td>\n",
              "      <td>44042992.0</td>\n",
              "    </tr>\n",
              "    <tr>\n",
              "      <th>8883</th>\n",
              "      <td>usa</td>\n",
              "      <td>1997</td>\n",
              "      <td>55312293.0</td>\n",
              "    </tr>\n",
              "    <tr>\n",
              "      <th>8884</th>\n",
              "      <td>usa</td>\n",
              "      <td>1998</td>\n",
              "      <td>69209321.0</td>\n",
              "    </tr>\n",
              "    <tr>\n",
              "      <th>8885</th>\n",
              "      <td>usa</td>\n",
              "      <td>1999</td>\n",
              "      <td>86047003.0</td>\n",
              "    </tr>\n",
              "  </tbody>\n",
              "</table>\n",
              "</div>"
            ],
            "text/plain": [
              "      geo  time  cell_phones_total\n",
              "8861  usa  1960                0.0\n",
              "8862  usa  1965                0.0\n",
              "8863  usa  1970                0.0\n",
              "8864  usa  1975                0.0\n",
              "8865  usa  1976                0.0\n",
              "8866  usa  1977                0.0\n",
              "8867  usa  1978                0.0\n",
              "8868  usa  1979                0.0\n",
              "8869  usa  1980                0.0\n",
              "8870  usa  1984            91600.0\n",
              "8871  usa  1985           340213.0\n",
              "8872  usa  1986           681825.0\n",
              "8873  usa  1987          1230855.0\n",
              "8874  usa  1988          2069441.0\n",
              "8875  usa  1989          3508944.0\n",
              "8876  usa  1990          5283055.0\n",
              "8877  usa  1991          7557148.0\n",
              "8878  usa  1992         11032753.0\n",
              "8879  usa  1993         16009461.0\n",
              "8880  usa  1994         24134421.0\n",
              "8881  usa  1995         33785661.0\n",
              "8882  usa  1996         44042992.0\n",
              "8883  usa  1997         55312293.0\n",
              "8884  usa  1998         69209321.0\n",
              "8885  usa  1999         86047003.0"
            ]
          },
          "metadata": {
            "tags": []
          },
          "execution_count": 27
        }
      ]
    },
    {
      "cell_type": "code",
      "metadata": {
        "id": "yUERRloCekK_",
        "colab": {
          "base_uri": "https://localhost:8080/",
          "height": 290
        },
        "outputId": "196370e7-cd91-44ac-ad85-ac625ca53d1c"
      },
      "source": [
        "china_usa.plot(x=['time'], y=['cell_phones_total'], kind='scatter');"
      ],
      "execution_count": null,
      "outputs": [
        {
          "output_type": "display_data",
          "data": {
            "image/png": "[encoded data removed]",
            "text/plain": [
              "<Figure size 432x288 with 1 Axes>"
            ]
          },
          "metadata": {
            "tags": [],
            "needs_background": "light"
          }
        }
      ]
    },
    {
      "cell_type": "markdown",
      "metadata": {
        "id": "JDlFreDzfCa5"
      },
      "source": [
        "Section 2:\n",
        "\n",
        "We want the intersection of the two dataframes where the common characteristics are maintained; inner join allows us to do that while specifying exactly what we want to keep during the merge"
      ]
    },
    {
      "cell_type": "code",
      "metadata": {
        "id": "LXhN_bPcfAGs",
        "colab": {
          "base_uri": "https://localhost:8080/",
          "height": 204
        },
        "outputId": "33c2f9f2-a2af-4a03-df10-8542feffc9c8"
      },
      "source": [
        "#Strech Section 3\n",
        "#Stretch\n",
        "geo_cell_pop['geo'] = geo_cell_pop['geo'].str.upper()\n",
        "\n",
        "geo_cell_pop.head()"
      ],
      "execution_count": null,
      "outputs": [
        {
          "output_type": "execute_result",
          "data": {
            "text/html": [
              "<div>\n",
              "<style scoped>\n",
              "    .dataframe tbody tr th:only-of-type {\n",
              "        vertical-align: middle;\n",
              "    }\n",
              "\n",
              "    .dataframe tbody tr th {\n",
              "        vertical-align: top;\n",
              "    }\n",
              "\n",
              "    .dataframe thead th {\n",
              "        text-align: right;\n",
              "    }\n",
              "</style>\n",
              "<table border=\"1\" class=\"dataframe\">\n",
              "  <thead>\n",
              "    <tr style=\"text-align: right;\">\n",
              "      <th></th>\n",
              "      <th>geo</th>\n",
              "      <th>time</th>\n",
              "      <th>cell_phones_total</th>\n",
              "      <th>population_total</th>\n",
              "      <th>country</th>\n",
              "      <th>per_person</th>\n",
              "    </tr>\n",
              "  </thead>\n",
              "  <tbody>\n",
              "    <tr>\n",
              "      <th>0</th>\n",
              "      <td>AFG</td>\n",
              "      <td>1960</td>\n",
              "      <td>0.0</td>\n",
              "      <td>8996967</td>\n",
              "      <td>Afghanistan</td>\n",
              "      <td>0.0</td>\n",
              "    </tr>\n",
              "    <tr>\n",
              "      <th>1</th>\n",
              "      <td>AFG</td>\n",
              "      <td>1965</td>\n",
              "      <td>0.0</td>\n",
              "      <td>9956318</td>\n",
              "      <td>Afghanistan</td>\n",
              "      <td>0.0</td>\n",
              "    </tr>\n",
              "    <tr>\n",
              "      <th>2</th>\n",
              "      <td>AFG</td>\n",
              "      <td>1970</td>\n",
              "      <td>0.0</td>\n",
              "      <td>11173654</td>\n",
              "      <td>Afghanistan</td>\n",
              "      <td>0.0</td>\n",
              "    </tr>\n",
              "    <tr>\n",
              "      <th>3</th>\n",
              "      <td>AFG</td>\n",
              "      <td>1975</td>\n",
              "      <td>0.0</td>\n",
              "      <td>12689164</td>\n",
              "      <td>Afghanistan</td>\n",
              "      <td>0.0</td>\n",
              "    </tr>\n",
              "    <tr>\n",
              "      <th>4</th>\n",
              "      <td>AFG</td>\n",
              "      <td>1976</td>\n",
              "      <td>0.0</td>\n",
              "      <td>12943093</td>\n",
              "      <td>Afghanistan</td>\n",
              "      <td>0.0</td>\n",
              "    </tr>\n",
              "  </tbody>\n",
              "</table>\n",
              "</div>"
            ],
            "text/plain": [
              "   geo  time  cell_phones_total  population_total      country  per_person\n",
              "0  AFG  1960                0.0           8996967  Afghanistan         0.0\n",
              "1  AFG  1965                0.0           9956318  Afghanistan         0.0\n",
              "2  AFG  1970                0.0          11173654  Afghanistan         0.0\n",
              "3  AFG  1975                0.0          12689164  Afghanistan         0.0\n",
              "4  AFG  1976                0.0          12943093  Afghanistan         0.0"
            ]
          },
          "metadata": {
            "tags": []
          },
          "execution_count": 29
        }
      ]
    },
    {
      "cell_type": "code",
      "metadata": {
        "id": "NwOt7oQ5fc0c"
      },
      "source": [
        "#Stretch Section 4\n"
      ],
      "execution_count": null,
      "outputs": []
    }
  ]
}